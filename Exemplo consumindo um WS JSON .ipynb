{
 "cells": [
  {
   "cell_type": "markdown",
   "id": "b5d358aa",
   "metadata": {},
   "source": [
    "<h1>Exemplos de uso de MYSQL</h1>"
   ]
  },
  {
   "cell_type": "markdown",
   "id": "612cc592",
   "metadata": {},
   "source": [
    "<h2>Web Service PHP</h2>"
   ]
  },
  {
   "cell_type": "markdown",
   "id": "641820be",
   "metadata": {},
   "source": [
    "Primeiramente iremos criar nosso Script php.\n",
    "\n",
    "No código abaixo temos o script, já contemplando os verbos do web service.\n"
   ]
  },
  {
   "cell_type": "raw",
   "id": "96dfe996",
   "metadata": {},
   "source": [
    "<?php\n",
    "    /*phpinfo();*/\n",
    "\t/*Registra webservice para processamento de jobs*/\n",
    "\tini_set('display_errors', 'Off');\n",
    "\terror_reporting(E_ALL);\n",
    "\t\n",
    "\t// get the HTTP method, path and body of the request\n",
    "\t$method = $_SERVER['REQUEST_METHOD'];\n",
    "\tmysqli_set_charset($dbhandle,'utf8');\n",
    "\t\n",
    "\tinclude \"connectdb.php\";\n",
    "\t//echo \"Content-Type: application/json\";\n",
    "\t\n",
    "\t//header('Cache-Control: no-cache, must-revalidate');\n",
    "\t//$data = var_dump(json_decode(file_get_contents(\"php://input\")));\n",
    "\t$data = json_decode(file_get_contents(\"php://input\"));\n",
    "\tif($data){\n",
    "\t\t$idpessoa = $dbhandle->real_escape_string($data->idpessoa);\n",
    "\t\t$nome = $dbhandle->real_escape_string($data->nome);\n",
    "\t\t$profissao = $dbhandle->real_escape_string($data->profissao);\n",
    "\t\t$sexo = $dbhandle->real_escape_string($data->sexo);\n",
    "\t\t$dtnasc = $dbhandle->real_escape_string($data->dtnasc);\n",
    "\t} else {\n",
    "\t\t$idpessoa = $dbhandle->real_escape_string($_GET['idpessoa']);\t\n",
    "\t\t$nome = $dbhandle->real_escape_string($_GET['nome']);\n",
    "\t\t$profissao = $dbhandle->real_escape_string($_GET['profissao']);\t\t\n",
    "\t\t$sexo = $dbhandle->real_escape_string($_GET['sexo']);\t\t\n",
    "\t\t$dtnasc = $dbhandle->real_escape_string($_GET['dtnasc']);\t\t\n",
    "\t}\n",
    "\t\t\n",
    "\tswitch ($method) {\n",
    "\t\tcase 'GET':\n",
    "\t\t\t$query = \"select * from pessoas\";\n",
    "\t\t\t$sqlwhere = \"\";\n",
    "\t\t\tif($idpessoa){\t\n",
    "\t\t\t\t$sqlwhere = \" where (idpessoa = \".$idpessoa.\");\";\n",
    "\t\t\t}\n",
    "\t\t\tif($nome){\t\n",
    "\t\t\t\tif($sqlwhere){\n",
    "\t\t\t\t\t$sqlwhere = $sqlwhere.\" and (nome like '%\".$nome.\"%');\";\n",
    "\t\t\t\t} else {\n",
    "\t\t\t\t\t$sqlwhere = \" where (nome like '%\".$nome.\"%');\";\n",
    "\t\t\t\t}\n",
    "\t\t\t}\n",
    "\t\t\tif($profissao){\t\n",
    "\t\t\t\tif($sqlwhere){\n",
    "\t\t\t\t\t$sqlwhere = $sqlwhere.\" and (profissao like '%\".$profissao.\"%');\";\n",
    "\t\t\t\t} else {\n",
    "\t\t\t\t\t$sqlwhere = \" where (profissao like '%\".$profissao.\"%');\";\n",
    "\t\t\t\t}\n",
    "\t\t\t}\n",
    "\t\t\tif($sexo){\t\n",
    "\t\t\t\tif($sqlwhere){\n",
    "\t\t\t\t\t$sqlwhere = $sqlwhere.\" and (sexo = '\".$sexo.\"');\";\n",
    "\t\t\t\t} else {\n",
    "\t\t\t\t\t$sqlwhere = \" where (sexo = '\".$sexo.\"');\";\n",
    "\t\t\t\t}\n",
    "\t\t\t}\n",
    "\t\t\tif($dtnasc){\t\n",
    "\t\t\t\tif($sqlwhere){\n",
    "\t\t\t\t\t$sqlwhere = $sqlwhere.\" and (dtnasc = '\".$dtnasc.\"');\";\n",
    "\t\t\t\t} else {\n",
    "\t\t\t\t\t$sqlwhere = \" where (dtnasc = '\".$dtnasc.\"');\";\n",
    "\t\t\t\t}\n",
    "\t\t\t}\n",
    "\t\t\t$query = $query . $sqlwhere;\n",
    "\t\t\tcase 'PUT':\n",
    "\t\t\t\n",
    "\t\t\tcase 'DELETE':\n",
    "\t\t\t\n",
    "\t\t\tcase 'PATCH':\n",
    "\t\t\t\n",
    "\t\t\t\n",
    "\n",
    "\t\t\t//echo $query.\"<br/>\";\n",
    "\t}\n",
    "\t\n",
    "\t$rs = $dbhandle->query($query);\n",
    "\t\n",
    "\tif(!$rs){\n",
    "\t\tdie(mysqli_error());\n",
    "\t}\n",
    "\t\n",
    "\t//print json_encode($rs);\t\n",
    "\n",
    "\t$cont = 0;\n",
    "\t\n",
    "\n",
    "    // print results, insert id or affected row count\n",
    "\tif ($method == 'GET') {\n",
    "\t\tif (!$key) echo '[{';\n",
    "\t\t\tfor ($i=0;$i<mysqli_num_rows($rs);$i++) {\n",
    "\t\t\t\t$row = $rs->fetch_array(MYSQLI_NUM);\n",
    "\t\t\t\tif ($row[0]!=\"\" )\n",
    "\t\t\t\t{\n",
    "\t\t\t\t\techo ($i>0?',':'');\n",
    "\t\t\t\t\techo '\"';\n",
    "\t\t\t\t\n",
    "\t\t\t\t\techo $row[0];\n",
    "\t\t\t\t\techo '\":';\n",
    "\t\t\t\t\techo json_encode(mysqli_fetch_object($rs));\n",
    "\t\t\t\t}\n",
    "\t\t\t}\n",
    "\t\tif (!$key) echo '}]';\n",
    "\t} \n",
    "\tif ($method == 'POST') {\n",
    "\t\t//echo mysqli_insert_id($link);\n",
    "\t} \n",
    "\tif ($method == 'DELETE') {\n",
    "\t\t//echo mysqli_affected_rows($link);\n",
    "\t}\t\n",
    "\t\n",
    "\n",
    "?>\n"
   ]
  },
  {
   "cell_type": "markdown",
   "id": "5197007b",
   "metadata": {},
   "source": [
    "O Web Service pode ser visto através do seguinte link:\n",
    "<a href=\"http://maurinsoft.com.br/exemplos/phpmysql/ws/Pessoa.php\">Web Service</a>    "
   ]
  },
  {
   "cell_type": "markdown",
   "id": "742646d3",
   "metadata": {},
   "source": [
    "<h2>Exemplo de consumo de Web Service JSON</h2>"
   ]
  },
  {
   "cell_type": "markdown",
   "id": "81e1d431",
   "metadata": {},
   "source": [
    "Neste exemplo irei mostrar como acessar um web service em python."
   ]
  },
  {
   "cell_type": "code",
   "execution_count": 109,
   "id": "1760c52c",
   "metadata": {},
   "outputs": [
    {
     "name": "stdout",
     "output_type": "stream",
     "text": [
      "[{'1': {'idPessoa': '16', 'nome': 'Marcella', 'dtnasc': '2002-01-16', 'profissao': 'Tecnica Informatica', 'sexo': 'F', 'dtchg': '2022-02-11 07:11:16', 'dtcad': '0000-00-00 00:00:00'}, '24': {'idPessoa': '27', 'nome': 'Teste', 'dtnasc': '2022-01-12', 'profissao': 'Enfermeira', 'sexo': 'M', 'dtchg': '2022-02-11 22:07:41', 'dtcad': '0000-00-00 00:00:00'}, '35': None}]\n"
     ]
    }
   ],
   "source": [
    "import requests\n",
    "import codecs\n",
    "import json\n",
    "\n",
    "api_url = \"http://maurinsoft.com.br/exemplos/phpmysql/ws/Pessoa.php\"\n",
    "response = requests.get(api_url)\n",
    "response.headers['content-type']\n",
    "#response.encoding\n",
    "#response.text\n",
    "#print(response.text)\n",
    "#response.text.encode('utf-8-sig','ignore')\n",
    "#print(response);\n",
    "info = \"\"\n",
    "if(response.text!={}):\n",
    "    dados = codecs.decode(response.text.encode(),'utf-8-sig') \n",
    "    js = json.loads(dados)     \n",
    "    print(js)\n",
    "    #print(js.count())\n"
   ]
  },
  {
   "cell_type": "markdown",
   "id": "1ffa300c",
   "metadata": {},
   "source": [
    "<h2>Importando com PANDAS</h2>"
   ]
  },
  {
   "cell_type": "markdown",
   "id": "15b9f9c2",
   "metadata": {},
   "source": [
    "Agora iremos consumir o web service usando PANDAS."
   ]
  },
  {
   "cell_type": "code",
   "execution_count": 164,
   "id": "3ad5ad03",
   "metadata": {},
   "outputs": [
    {
     "name": "stdout",
     "output_type": "stream",
     "text": [
      "     35 1.idPessoa    1.nome    1.dtnasc          1.profissao 1.sexo  \\\n",
      "0  None         16  Marcella  2002-01-16  Tecnica Informatica      F   \n",
      "\n",
      "               1.dtchg              1.dtcad 24.idPessoa 24.nome   24.dtnasc  \\\n",
      "0  2022-02-11 07:11:16  0000-00-00 00:00:00          27   Teste  2022-01-12   \n",
      "\n",
      "  24.profissao 24.sexo             24.dtchg             24.dtcad  \n",
      "0   Enfermeira       M  2022-02-11 22:07:41  0000-00-00 00:00:00  \n"
     ]
    }
   ],
   "source": [
    "from urllib.request import urlopen\n",
    "import json\n",
    "import pandas as pd\n",
    "\n",
    "response = urlopen(\"http://maurinsoft.com.br/exemplos/phpmysql/ws/Pessoa.php\")\n",
    "json_data = response.read().decode('utf-8-sig', 'replace')\n",
    "\n",
    "d = json.loads(json_data)\n",
    "df = pd.json_normalize(d[0])\n",
    "\n",
    "print(df)"
   ]
  },
  {
   "cell_type": "code",
   "execution_count": null,
   "id": "089e6326",
   "metadata": {},
   "outputs": [],
   "source": []
  }
 ],
 "metadata": {
  "kernelspec": {
   "display_name": "Python 3",
   "language": "python",
   "name": "python3"
  },
  "language_info": {
   "codemirror_mode": {
    "name": "ipython",
    "version": 3
   },
   "file_extension": ".py",
   "mimetype": "text/x-python",
   "name": "python",
   "nbconvert_exporter": "python",
   "pygments_lexer": "ipython3",
   "version": "3.8.8"
  }
 },
 "nbformat": 4,
 "nbformat_minor": 5
}
